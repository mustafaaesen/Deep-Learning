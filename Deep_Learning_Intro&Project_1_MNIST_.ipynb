{
  "nbformat": 4,
  "nbformat_minor": 0,
  "metadata": {
    "colab": {
      "provenance": []
    },
    "kernelspec": {
      "name": "python3",
      "display_name": "Python 3"
    },
    "language_info": {
      "name": "python"
    }
  },
  "cells": [
    {
      "cell_type": "code",
      "execution_count": null,
      "metadata": {
        "colab": {
          "base_uri": "https://localhost:8080/",
          "height": 70
        },
        "id": "lCmJHVxJEhJR",
        "outputId": "1c8f1876-ad91-441c-ffd0-0218e4a99ad2"
      },
      "outputs": [
        {
          "output_type": "execute_result",
          "data": {
            "text/plain": [
              "'\\n--->İnsan beynindeki nöronlardan ilham alan matematiksel\\nyapılardır.\\n\\n--->Genellikle veri girişi->işleme->tahmin/çıktı üretme\\ndöngüsünde çalışır.\\n\\nTEMEL YAPI\\n-Girdi Katmanı(Input Layer)\\n-Gizli Katman(lar)(Hidden Layer)\\n-Çıktı Katmanı(Output Layer)\\n\\n--->Her katmanda nöron denilen birimler vardır.\\n\\n--->Nöronlar girişleri alır,bunları ağırlıklarla çarpar, bir aktivasyon\\nfonksiyonudan geçirip diğer katmana aktarır.\\n\\n'"
            ],
            "application/vnd.google.colaboratory.intrinsic+json": {
              "type": "string"
            }
          },
          "metadata": {},
          "execution_count": 1
        }
      ],
      "source": [
        "#1) YAPAY SİNİR AĞI(ANN)\n",
        "\n",
        "\"\"\"\n",
        "--->İnsan beynindeki nöronlardan ilham alan matematiksel\n",
        "yapılardır.\n",
        "\n",
        "--->Genellikle veri girişi->işleme->tahmin/çıktı üretme\n",
        "döngüsünde çalışır.\n",
        "\n",
        "TEMEL YAPI\n",
        "-Girdi Katmanı(Input Layer)\n",
        "-Gizli Katman(lar)(Hidden Layer)\n",
        "-Çıktı Katmanı(Output Layer)\n",
        "\n",
        "--->Her katmanda nöron denilen birimler vardır.\n",
        "\n",
        "--->Nöronlar girişleri alır,bunları ağırlıklarla çarpar, bir aktivasyon\n",
        "fonksiyonudan geçirip diğer katmana aktarır.\n",
        "\n",
        "\"\"\""
      ]
    },
    {
      "cell_type": "code",
      "source": [
        "#2) KATMANLAR\n",
        "\n",
        "\"\"\"\n",
        "DENSE (Tam Bağlantılı Katman)\n",
        "--->Her nöron bir önceki katmandaki tüm nöronlara bağlıdır.\n",
        "\n",
        "     Örnek Python\n",
        "\n",
        "     from tensorflow.keras.layers import Dense\n",
        "     Dense(units=64,activation='relu')\n",
        "\n",
        "     units-->Nöron sayısıdır.\n",
        "     activation-->Aktivaston Fonksiyonu\n",
        "\n",
        "Activation Foknsiyonu\n",
        "\n",
        "--->Nöro çıkışında kullanılır.\n",
        "--->Doğrusal olmayan karar almayı sağlar\n",
        "\n",
        "    En Yaygınları\n",
        "\n",
        "    ReLU --> Negatifleri sıfırlar,pozitiflerş olduğu gibi\n",
        "    geçer.Gizli katmanlarda sıkça kullanılır.\n",
        "\n",
        "    Sigmoid -->(0,1) arası çıkış verir.Binary sınıflandırmada iyidir.\n",
        "\n",
        "    Softmax -->Çok sınıflı problemler için .Çıkışları olasılığı dönüştürür.\n",
        "\n",
        "\n",
        "\n",
        "\"\"\""
      ],
      "metadata": {
        "colab": {
          "base_uri": "https://localhost:8080/",
          "height": 87
        },
        "id": "LbwHvaDfFxDy",
        "outputId": "0024636b-1f6b-404e-d61b-44b91d9fb4a8"
      },
      "execution_count": null,
      "outputs": [
        {
          "output_type": "execute_result",
          "data": {
            "text/plain": [
              "\"\\nDENSE (Tam Bağlantılı Katman)\\n--->Her nöron bir önceki katmandaki tüm nöronlara bağlıdır.\\n\\n     from tensorflow.keras.layers import Dense\\n     Dense(units=64,activation='relu')\\n\\n     units-->Nöron sayısıdır.\\n     activation-->Aktivaston Fonksiyonu\\n\\nActivation Foknsiyonu\\n\\n--->Nöro çıkışında kullanılır.\\n--->Doğrusal olmayan karar almayı sağlar\\n      \\n    En Yaygınları\\n\\n    ReLU --> Negatifleri sıfırlar,pozitiflerş olduğu gibi\\n    geçer.Gizli katmanlarda sıkça kullanılır.\\n\\n    Sigmoid -->(0,1) arası çıkış verir.Binary sınıflandırmada iyidir.\\n\\n    Softmax -->Çok sınıflı problemler için .Çıkışları olasılığı dönüştürür.\\n\\n\\n\\n\""
            ],
            "application/vnd.google.colaboratory.intrinsic+json": {
              "type": "string"
            }
          },
          "metadata": {},
          "execution_count": 2
        }
      ]
    },
    {
      "cell_type": "code",
      "source": [
        "#3) TensorFlow & Keras\n",
        "\n",
        "\"\"\"\n",
        "TensorFlow\n",
        "\n",
        "   --->Google tarafından geliştirilen makine öğrenmesi framework'üdür.\n",
        "\n",
        "Keras\n",
        "\n",
        "   --->TensorFlow içinde çalışan daha kolay ve hızlı kurulumunu sağlayan\n",
        "   bir API'dır.\n",
        "\n",
        "\n",
        "Örnek Python\n",
        "\n",
        "from tensorflow.keras.models import Sequential\n",
        "from tensorflow.keras.layers import Dense\n",
        "\n",
        "model=Sequential([\n",
        "\n",
        "   Dense(128,activation='relu',input_shape(784,))\n",
        "   Dense(64, activation='relu')\n",
        "   Dense(10,activation='softmax')\n",
        "\n",
        "])\n",
        "\n",
        "Sequential--->Katmanları sırayla tanımlar.\n",
        "\n",
        "input_shape--->Giriş verisinin boyutu(28x28=784)\n",
        "\n",
        "softmax ---> Son katmanda 10 sınıf varsa kullanılır.\n",
        "(MNIST rakamları 0-9)\n",
        "\n",
        "\"\"\""
      ],
      "metadata": {
        "colab": {
          "base_uri": "https://localhost:8080/",
          "height": 87
        },
        "id": "PopsTNT_G7lE",
        "outputId": "7b7a975b-46da-4363-a1a2-d3c4490f7523"
      },
      "execution_count": null,
      "outputs": [
        {
          "output_type": "execute_result",
          "data": {
            "text/plain": [
              "\"\\nTensorFlow \\n\\n   --->Google tarafından geliştirilen makine öğrenmesi framework'üdür.\\n   \\nKeras\\n \\n   --->TensorFlow içinde çalışan daha kolay ve hızlı kurulumunu sağlayan\\n   bir API'dır.\\n  \\n\\nÖrnek Python\\n\\nfrom tensorflow.keras.models import Sequential\\nfrom tensorflow.keras.layers import Dense\\n\\nmodel=Sequential([\\n\\n   Dense(128,activation='relu',input_shape(784,))\\n   Dense(64, activation='relu')\\n   Dense(10,activation='softmax')\\n\\n])\\n\\nSequential--->Katmanları sırayla tanımlar.\\n\\ninput_shape--->Giriş verisinin boyutu(28x28=784)\\n\\nsoftmax ---> Son katmanda 10 sınıf varsa kullanılır.\\n(MNIST rakamları 0-9)\\n\\n\""
            ],
            "application/vnd.google.colaboratory.intrinsic+json": {
              "type": "string"
            }
          },
          "metadata": {},
          "execution_count": 3
        }
      ]
    },
    {
      "cell_type": "code",
      "source": [
        "#4) Model Eğitimi: Epoch & Batch Size\n",
        "\n",
        "\"\"\"\n",
        "Epoch:\n",
        "\n",
        "  --->Tüm eğitim verisinin bir kez modelden geçmesidir.\n",
        "  --->Genellikle modelin öğrenmesi için 5-5*0 epoch arası kullanılır.\n",
        "\n",
        "\n",
        "Batch Size:\n",
        "\n",
        "  --->Modelin aynı anda işleyeceği örnek sayısıdır.\n",
        "  --->Örneğin Batch Size=32 her seferinde 32 örnekle güncelleme yapılır.\n",
        "\n",
        "\"\"\""
      ],
      "metadata": {
        "colab": {
          "base_uri": "https://localhost:8080/",
          "height": 53
        },
        "id": "NnU6KKaPIO8K",
        "outputId": "71c77ba3-ad6c-4b77-dfbd-0770ae3a7393"
      },
      "execution_count": null,
      "outputs": [
        {
          "output_type": "execute_result",
          "data": {
            "text/plain": [
              "'\\nEpoch:\\n  \\n  --->Tüm eğitim verisinin bir kez modelden geçmesidir.\\n  --->Genellikle modelin öğrenmesi için 5-5*0 epoch arası kullanılır.\\n\\n\\nBatch Size:\\n\\n  --->Modelin aynı anda işleyeceği örnek sayısıdır.\\n  --->Örneğin Batch Size=32 her seferinde 32 örnekle güncelleme yapılır.\\n\\n'"
            ],
            "application/vnd.google.colaboratory.intrinsic+json": {
              "type": "string"
            }
          },
          "metadata": {},
          "execution_count": 4
        }
      ]
    },
    {
      "cell_type": "code",
      "source": [
        "#5) Model Derleme ve Eğitim\n",
        "\n",
        "\n",
        "\"\"\"\n",
        "\n",
        "model.compile(optimizer='adam', lodd='categorical_crossentropy', metrics=['accuracy])\n",
        "\n",
        "model.fit(x_train, y_train, epochs=10, batch_size=32)\n",
        "\n",
        "\n",
        "optimizer='adam':\n",
        "\n",
        "    --->Modelin ağırlıklarını nasıl güncelleyceğini belirler.\n",
        "    adam-->En yaygın kullanılan optimize edici algoritmalardan biridir.\n",
        "    --->adaptif öğrenme oranı kullanılır(hem hızlı, hem kararlı)\n",
        "\n",
        "\n",
        "loss='categorical_crossentropy'\n",
        "Kayıp Fonksiyonu(loss):\n",
        "\n",
        "    --->Modelin yaptığı tahminlerle gerçek etiket arasındaki farkı hesaplar\n",
        "    --->Çok sınıflı sınıflandırma problemlerinde kullanılır.\n",
        "\n",
        "metrics=['accuracy']:\n",
        "\n",
        "    --->Model performansını değerlendirmek için hangi metriğin kullanılacağını\n",
        "    belirtilmesi.\n",
        "\n",
        "    --->accuracy--> Doğru tahmin edilen örneklerin oranı.\n",
        "    --->Sınıflandırma probelemlerinde kullanılır.\n",
        "\n",
        "\"\"\""
      ],
      "metadata": {
        "colab": {
          "base_uri": "https://localhost:8080/",
          "height": 87
        },
        "id": "i-Bv2SMaIw5y",
        "outputId": "d381e989-1c9a-45c1-ae5a-26ddfd07b9da"
      },
      "execution_count": null,
      "outputs": [
        {
          "output_type": "execute_result",
          "data": {
            "text/plain": [
              "\"\\n\\nmodel.compile(optimizer='adam', lodd='categorical_crossentropy', metrics=['accuracy])\\n\\nmodel.fit(x_train, y_train, epochs=10, batch_size=32)\\n\\n\\noptimizer='adam':\\n   \\n    --->Modelin ağırlıklarını nasıl güncelleyceğini belirler.\\n    adam-->En yaygın kullanılan optimize edici algoritmalardan biridir.\\n    --->adaptif öğrenme oranı kullanılır(hem hızlı, hem kararlı)\\n  \\n\\nloss='categorical_crossentropy'\\nKayıp Fonksiyonu(loss):\\n\\n    --->Modelin yaptığı tahminlerle gerçek etiket arasındaki farkı hesaplar\\n    --->Çok sınıflı sınıflandırma problemlerinde kullanılır.\\n    \\nmetrics=['accuracy']:\\n\\n    --->Model performansını değerlendirmek için hangi metriğin kullanılacağını\\n    belirtilmesi.\\n\\n    --->accuracy--> Doğru tahmin edilen örneklerin oranı.\\n    --->Sınıflandırma probelemlerinde kullanılır.\\n\\n\""
            ],
            "application/vnd.google.colaboratory.intrinsic+json": {
              "type": "string"
            }
          },
          "metadata": {},
          "execution_count": 5
        }
      ]
    },
    {
      "cell_type": "code",
      "source": [
        "#SÜREÇ ÖZET\n",
        "\n",
        "\"\"\"\n",
        "1) VERİ HAZIRLAMA --->Normalizasyon,etiket dönüşümü\n",
        "\n",
        "2) MODEL KURMA    --->Sequential ile katmanları sırayla oluşturma\n",
        "\n",
        "3) DERLEME        --->Hangi optimizer ve kayıp fonksiyonlarının uygulancağı.\n",
        "\n",
        "4) EĞİTİM(fit)    --->Veriyi modele verip öğrenmesini sağlama.\n",
        "\n",
        "5) DEĞERLENDİRME  --->Test verisiyle başarı ölçütü.\n",
        "\n",
        "6)TAHMİN(predict) --->Yeni verilerle çıktı üretme.\n",
        "\n",
        "\"\"\""
      ],
      "metadata": {
        "id": "QnnCxJDdKKjI"
      },
      "execution_count": null,
      "outputs": []
    },
    {
      "cell_type": "code",
      "source": [
        "#ÖRNEK PROJE\n",
        "#El Yazısı Rakamları Tanıyan Yapay Sinir Ağı (MNIST)\n",
        "\n",
        "\"\"\"\n",
        "Hedef\n",
        "--->28x28 boyutundaki el yazısı rakam görsellerinden (0–9 arası) hangi\n",
        "rakam olduğunu tahmin eden bir model geliştirmek.\n",
        "\n",
        "Araçlar\n",
        "\n",
        "TensorFlow / Keras\n",
        "\n",
        "MNIST veri seti (Keras’ın içinden hazır geliyor)\n",
        "\n",
        "Yapay Sinir Ağı (ANN) — sadece Dense katmanlarla\n",
        "\n",
        "\"\"\""
      ],
      "metadata": {
        "colab": {
          "base_uri": "https://localhost:8080/",
          "height": 53
        },
        "id": "phj44RmFMctb",
        "outputId": "a0e0d3d4-3d43-48b5-b4db-339bd440f88d"
      },
      "execution_count": null,
      "outputs": [
        {
          "output_type": "execute_result",
          "data": {
            "text/plain": [
              "'\\nHedef\\n--->28x28 boyutundaki el yazısı rakam görsellerinden (0–9 arası) hangi \\nrakam olduğunu tahmin eden bir model geliştirmek.\\n\\nAraçlar\\n\\nTensorFlow / Keras\\n\\nMNIST veri seti (Keras’ın içinden hazır geliyor)\\n\\nYapay Sinir Ağı (ANN) — sadece Dense katmanlarla\\n\\n'"
            ],
            "application/vnd.google.colaboratory.intrinsic+json": {
              "type": "string"
            }
          },
          "metadata": {},
          "execution_count": 6
        }
      ]
    },
    {
      "cell_type": "code",
      "source": [
        "#Gerekli Kütüphaneler\n",
        "\n",
        "import numpy as np\n",
        "#sayısal işlemler için\n",
        "\n",
        "import matplotlib.pyplot as plt\n",
        "#veri görselleştrime için\n",
        "\n",
        "import tensorflow as tf\n",
        "# derin öğrenme kütüphanesi,keras ile model oluşturulacak\n",
        "\n",
        "from tensorflow.keras.datasets import mnist\n",
        "#MNIST veri setini yüklemek için çağırım\n",
        "\n",
        "from tensorflow.keras.models import Sequential\n",
        "#model oluşturmak için Sequential sınıfı tanımı\n",
        "\n",
        "from tensorflow.keras.layers import Dense,Flatten\n",
        "#yapay sinir ağı katmanları için dense,flatten gibi katmanların eklenmesi\n",
        "\n",
        "from tensorflow.keras.utils import to_categorical\n",
        "#etiketleri one-hot vektöze edebilmek için"
      ],
      "metadata": {
        "id": "HHEj3CpZNESi"
      },
      "execution_count": null,
      "outputs": []
    },
    {
      "cell_type": "code",
      "source": [
        "#MNIST VERİ SETİ YÜKLEME\n",
        "\n",
        "(x_train, y_train),(x_test, y_test) = mnist.load_data()\n",
        "#MNIST veri seti eğitim ve test verisi olarak ayrılmış şeklide gelmektedir.\n",
        "\n",
        "print(\"Eğitim veri şekli (görseller):\" ,x_train.shape)\n",
        "#x_train el yazısı rakam görselleri (28x28 boyutunda)\n",
        "\n",
        "print(\"Eğitim etiketleri şekli:\",y_train.shape)\n",
        "#y_train bu resimlere karşılık gelen rakam etiketleri(0-9 arası)"
      ],
      "metadata": {
        "colab": {
          "base_uri": "https://localhost:8080/"
        },
        "id": "YR-2_egnOD2v",
        "outputId": "1051d3f9-1e58-4c9b-fcd7-2440671c70ea"
      },
      "execution_count": null,
      "outputs": [
        {
          "output_type": "stream",
          "name": "stdout",
          "text": [
            "Downloading data from https://storage.googleapis.com/tensorflow/tf-keras-datasets/mnist.npz\n",
            "\u001b[1m11490434/11490434\u001b[0m \u001b[32m━━━━━━━━━━━━━━━━━━━━\u001b[0m\u001b[37m\u001b[0m \u001b[1m0s\u001b[0m 0us/step\n",
            "Eğitim veri şekli (görseller): (60000, 28, 28)\n",
            "Eğitim etiketleri şekli: (60000,)\n"
          ]
        }
      ]
    },
    {
      "cell_type": "code",
      "source": [
        "#VERİYİ GÖRSELLEŞTİRME\n",
        "#ilk resmi ve etiketini görüntüleme deneme amaçlı\n",
        "plt.imshow(x_train[0], cmap=\"gray\") #görüntüüyü gri tonlarda gösterme\n",
        "plt.title(f\"Etiket: {y_train[0]}\")\n",
        "plt.axis(\"off\")\n",
        "plt.show()"
      ],
      "metadata": {
        "colab": {
          "base_uri": "https://localhost:8080/",
          "height": 428
        },
        "id": "RzpCh9LnO3l3",
        "outputId": "2caee0ca-adad-4287-cc00-a3b244234f63"
      },
      "execution_count": null,
      "outputs": [
        {
          "output_type": "display_data",
          "data": {
            "text/plain": [
              "<Figure size 640x480 with 1 Axes>"
            ],
            "image/png": "[encoded data removed]"
          },
          "metadata": {}
        }
      ]
    },
    {
      "cell_type": "code",
      "source": [
        "#VERİ ÖNİŞLEME\n",
        "\n",
        "#görsellerin pixel değerleri 0-255 aralığında bunu 0-1 aralığına normalize\n",
        "#etmeliyiz\n",
        "\n",
        "x_train = x_train/255.0\n",
        "x_test = x_test/255.0\n",
        "\n",
        "\n",
        "#Etiketleri one-hot kodlamaya çevirme\n",
        "\n",
        "y_train=to_categorical(y_train,10)\n",
        "y_test = to_categorical(y_test,10)\n"
      ],
      "metadata": {
        "id": "826xKX5sPMHD"
      },
      "execution_count": null,
      "outputs": []
    },
    {
      "cell_type": "code",
      "source": [
        "#MODEL TANIMLAMA\n",
        "\n",
        "model=Sequential()# modeli oluşturmak için sequential sınıfını başlatma\n",
        "\n",
        "model.add(Flatten(input_shape=(28,28)))#ilk katmanı düzleştirme 28x28=784\n",
        "\n",
        "model.add(Dense(128,activation='relu'))#ikinci katmanı 128 nöronlu gizli katman\n",
        "#olarak ayarlama ReLU aktivasyonuyla\n",
        "\n",
        "model.add(Dense(64,activation='relu'))#üçüncü katmanı 64 nöronlu ikinci gizli\n",
        "#katman olarak ayarlama ReLU aktivasyonuyla\n",
        "\n",
        "model.add(Dense(10,activation='softmax'))#çıkış katmanı 10 sınıf(0-9 rakamları)\n",
        "#softmax ile olasılığa dönüştürüldü\n"
      ],
      "metadata": {
        "colab": {
          "base_uri": "https://localhost:8080/"
        },
        "id": "QATVVRCWPq7u",
        "outputId": "50f52180-0d29-4a44-d0b0-5268b33fb24c"
      },
      "execution_count": null,
      "outputs": [
        {
          "output_type": "stream",
          "name": "stderr",
          "text": [
            "/usr/local/lib/python3.11/dist-packages/keras/src/layers/reshaping/flatten.py:37: UserWarning: Do not pass an `input_shape`/`input_dim` argument to a layer. When using Sequential models, prefer using an `Input(shape)` object as the first layer in the model instead.\n",
            "  super().__init__(**kwargs)\n"
          ]
        }
      ]
    },
    {
      "cell_type": "code",
      "source": [
        "#MODELİ DERLEME\n",
        "\n",
        "model.compile(\n",
        "    optimizer='adam',  #ağırlıkalrı optimize eden adam algoritması\n",
        "    loss='categorical_crossentropy',  # çok sınıflı sınıflandırma için uygun kayıp\n",
        "    #fonksiyonu\n",
        "    metrics=['accuracy']#Doğruluk oranını kontrol için accuracy\n",
        ")"
      ],
      "metadata": {
        "id": "-OdR2ATIQb-g"
      },
      "execution_count": null,
      "outputs": []
    },
    {
      "cell_type": "code",
      "source": [
        "#MODEL EĞİTİMİ\n",
        "\n",
        "history= model.fit(\n",
        "    x_train, y_train,  #eğitim verileri\n",
        "    epochs=10,   # tüm veri seti 10 kez modele  gösterilecek\n",
        "    batch_size=32, #her eğitim adımında 32 örnek kullanılacak\n",
        "    validation_split=0.1,#eğitim verisinin %10 u doğrulama için ayırılacak\n",
        "    verbose=1 #eğitim sırasında çıktıların gösterilmesini sağlar\n",
        ")"
      ],
      "metadata": {
        "colab": {
          "base_uri": "https://localhost:8080/"
        },
        "id": "qRPtXeTQQ2qg",
        "outputId": "0fff8a9e-79a2-4983-952f-12d31255ebde"
      },
      "execution_count": null,
      "outputs": [
        {
          "output_type": "stream",
          "name": "stdout",
          "text": [
            "Epoch 1/10\n",
            "\u001b[1m1688/1688\u001b[0m \u001b[32m━━━━━━━━━━━━━━━━━━━━\u001b[0m\u001b[37m\u001b[0m \u001b[1m10s\u001b[0m 5ms/step - accuracy: 0.8693 - loss: 0.4450 - val_accuracy: 0.9657 - val_loss: 0.1135\n",
            "Epoch 2/10\n",
            "\u001b[1m1688/1688\u001b[0m \u001b[32m━━━━━━━━━━━━━━━━━━━━\u001b[0m\u001b[37m\u001b[0m \u001b[1m9s\u001b[0m 4ms/step - accuracy: 0.9652 - loss: 0.1180 - val_accuracy: 0.9743 - val_loss: 0.0897\n",
            "Epoch 3/10\n",
            "\u001b[1m1688/1688\u001b[0m \u001b[32m━━━━━━━━━━━━━━━━━━━━\u001b[0m\u001b[37m\u001b[0m \u001b[1m8s\u001b[0m 5ms/step - accuracy: 0.9782 - loss: 0.0712 - val_accuracy: 0.9738 - val_loss: 0.0837\n",
            "Epoch 4/10\n",
            "\u001b[1m1688/1688\u001b[0m \u001b[32m━━━━━━━━━━━━━━━━━━━━\u001b[0m\u001b[37m\u001b[0m \u001b[1m11s\u001b[0m 5ms/step - accuracy: 0.9831 - loss: 0.0537 - val_accuracy: 0.9730 - val_loss: 0.0820\n",
            "Epoch 5/10\n",
            "\u001b[1m1688/1688\u001b[0m \u001b[32m━━━━━━━━━━━━━━━━━━━━\u001b[0m\u001b[37m\u001b[0m \u001b[1m8s\u001b[0m 5ms/step - accuracy: 0.9869 - loss: 0.0402 - val_accuracy: 0.9775 - val_loss: 0.0789\n",
            "Epoch 6/10\n",
            "\u001b[1m1688/1688\u001b[0m \u001b[32m━━━━━━━━━━━━━━━━━━━━\u001b[0m\u001b[37m\u001b[0m \u001b[1m11s\u001b[0m 5ms/step - accuracy: 0.9893 - loss: 0.0336 - val_accuracy: 0.9770 - val_loss: 0.0765\n",
            "Epoch 7/10\n",
            "\u001b[1m1688/1688\u001b[0m \u001b[32m━━━━━━━━━━━━━━━━━━━━\u001b[0m\u001b[37m\u001b[0m \u001b[1m10s\u001b[0m 5ms/step - accuracy: 0.9909 - loss: 0.0272 - val_accuracy: 0.9775 - val_loss: 0.0750\n",
            "Epoch 8/10\n",
            "\u001b[1m1688/1688\u001b[0m \u001b[32m━━━━━━━━━━━━━━━━━━━━\u001b[0m\u001b[37m\u001b[0m \u001b[1m11s\u001b[0m 6ms/step - accuracy: 0.9935 - loss: 0.0205 - val_accuracy: 0.9760 - val_loss: 0.0942\n",
            "Epoch 9/10\n",
            "\u001b[1m1688/1688\u001b[0m \u001b[32m━━━━━━━━━━━━━━━━━━━━\u001b[0m\u001b[37m\u001b[0m \u001b[1m10s\u001b[0m 5ms/step - accuracy: 0.9933 - loss: 0.0196 - val_accuracy: 0.9763 - val_loss: 0.0955\n",
            "Epoch 10/10\n",
            "\u001b[1m1688/1688\u001b[0m \u001b[32m━━━━━━━━━━━━━━━━━━━━\u001b[0m\u001b[37m\u001b[0m \u001b[1m8s\u001b[0m 5ms/step - accuracy: 0.9948 - loss: 0.0152 - val_accuracy: 0.9792 - val_loss: 0.0842\n"
          ]
        }
      ]
    },
    {
      "cell_type": "code",
      "source": [
        "#TEST VERİSİ ile DEĞERLENDİRME\n",
        "\n",
        "test_loss, test_accuracy= model.evaluate(x_test, y_test)\n",
        "#eğitimden sonra modeli test verileri değerlendirme\n",
        "\n",
        "print(f\"\\nTest Kayıp (Loss): {test_loss: .4f}\")\n",
        "print(f\"Test Doğruluk (Accuracy): %{test_accuracy * 100:.2f} \")"
      ],
      "metadata": {
        "colab": {
          "base_uri": "https://localhost:8080/"
        },
        "id": "ZhFlKY4KRt82",
        "outputId": "56823ee5-76e7-4432-b86e-ebf702ae3ad6"
      },
      "execution_count": null,
      "outputs": [
        {
          "output_type": "stream",
          "name": "stdout",
          "text": [
            "\u001b[1m313/313\u001b[0m \u001b[32m━━━━━━━━━━━━━━━━━━━━\u001b[0m\u001b[37m\u001b[0m \u001b[1m1s\u001b[0m 3ms/step - accuracy: 0.9724 - loss: 0.1095\n",
            "\n",
            "Test Kayıp (Loss):  0.0913\n",
            "Test Doğruluk (Accuracy): %97.67 \n"
          ]
        }
      ]
    },
    {
      "cell_type": "code",
      "source": [
        "#TAHMİNLERİN GÖRSELLEŞTİRİLMESİ\n",
        "\n",
        "predictions=model.predict(x_test)\n",
        "#test setindeki tahminlerin alınması\n",
        "\n",
        "#ilk 5 resmi tahminleriyle birlikte yazma\n",
        "\n",
        "for i in range(5):\n",
        "\n",
        "  plt.imshow(x_test[i], cmap=\"gray\")\n",
        "  plt.title(f\"Gerçek: {np.argmax(y_test[i])} | Tahmin: {np.argmax(predictions[i])}\")\n",
        "  plt.axis(\"off\")\n",
        "  plt.show()"
      ],
      "metadata": {
        "colab": {
          "base_uri": "https://localhost:8080/",
          "height": 1000
        },
        "id": "Q55YGkLHSVtP",
        "outputId": "0a57cec9-e44c-4906-afe9-35ae4144b40c"
      },
      "execution_count": null,
      "outputs": [
        {
          "output_type": "stream",
          "name": "stdout",
          "text": [
            "\u001b[1m313/313\u001b[0m \u001b[32m━━━━━━━━━━━━━━━━━━━━\u001b[0m\u001b[37m\u001b[0m \u001b[1m1s\u001b[0m 2ms/step\n"
          ]
        },
        {
          "output_type": "display_data",
          "data": {
            "text/plain": [
              "<Figure size 640x480 with 1 Axes>"
            ],
            "image/png": "[encoded data removed]"
          },
          "metadata": {}
        },
        {
          "output_type": "display_data",
          "data": {
            "text/plain": [
              "<Figure size 640x480 with 1 Axes>"
            ],
            "image/png": "[encoded data removed]"
          },
          "metadata": {}
        },
        {
          "output_type": "display_data",
          "data": {
            "text/plain": [
              "<Figure size 640x480 with 1 Axes>"
            ],
            "image/png": "[encoded data removed]"
          },
          "metadata": {}
        },
        {
          "output_type": "display_data",
          "data": {
            "text/plain": [
              "<Figure size 640x480 with 1 Axes>"
            ],
            "image/png": "[encoded data removed]"
          },
          "metadata": {}
        },
        {
          "output_type": "display_data",
          "data": {
            "text/plain": [
              "<Figure size 640x480 with 1 Axes>"
            ],
            "image/png": "[encoded data removed]"
          },
          "metadata": {}
        }
      ]
    },
    {
      "cell_type": "code",
      "source": [
        "#MODEL KAYDETME\n",
        "\n",
        "model.save(\"mnist_ann_model.h5\")"
      ],
      "metadata": {
        "colab": {
          "base_uri": "https://localhost:8080/"
        },
        "id": "kCBa5ICPS9Yi",
        "outputId": "3866c3aa-e1a2-459d-e326-5ff4ca33dcef"
      },
      "execution_count": null,
      "outputs": [
        {
          "output_type": "stream",
          "name": "stderr",
          "text": [
            "WARNING:absl:You are saving your model as an HDF5 file via `model.save()` or `keras.saving.save_model(model)`. This file format is considered legacy. We recommend using instead the native Keras format, e.g. `model.save('my_model.keras')` or `keras.saving.save_model(model, 'my_model.keras')`. \n"
          ]
        }
      ]
    }
  ]
}